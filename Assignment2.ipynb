{
  "nbformat": 4,
  "nbformat_minor": 0,
  "metadata": {
    "colab": {
      "provenance": []
    },
    "kernelspec": {
      "name": "python3",
      "display_name": "Python 3"
    },
    "language_info": {
      "name": "python"
    }
  },
  "cells": [
    {
      "cell_type": "code",
      "execution_count": 28,
      "metadata": {
        "colab": {
          "base_uri": "https://localhost:8080/"
        },
        "id": "j10pg8wdxKKT",
        "outputId": "81fe81c4-6368-4870-a0fa-448ddaea6fb0"
      },
      "outputs": [
        {
          "output_type": "stream",
          "name": "stdout",
          "text": [
            "Unnamed: 0              0\n",
            "Name                    0\n",
            "Location                0\n",
            "Year                    0\n",
            "Kilometers_Driven       0\n",
            "Fuel_Type               0\n",
            "Transmission            0\n",
            "Owner_Type              0\n",
            "Mileage                 2\n",
            "Engine                 36\n",
            "Power                  36\n",
            "Seats                  38\n",
            "New_Price            5032\n",
            "Price                   0\n",
            "dtype: int64\n",
            "Unnamed: 0              0\n",
            "Name                    0\n",
            "Location                0\n",
            "Year                    0\n",
            "Kilometers_Driven       0\n",
            "Fuel_Type               0\n",
            "Transmission            0\n",
            "Owner_Type              0\n",
            "Mileage                 2\n",
            "Engine                 36\n",
            "Power                  36\n",
            "Seats                   0\n",
            "New_Price            5032\n",
            "Price                   0\n",
            "dtype: int64\n"
          ]
        },
        {
          "output_type": "stream",
          "name": "stderr",
          "text": [
            "<ipython-input-28-9fdeb9cf0997>:7: FutureWarning: The default value of numeric_only in DataFrame.mean is deprecated. In a future version, it will default to False. In addition, specifying 'numeric_only=None' is deprecated. Select only valid columns or specify the value of numeric_only to silence this warning.\n",
            "  data.fillna(data.mean(), inplace=True)\n"
          ]
        }
      ],
      "source": [
        "# Assuming your dataset is in a CSV file, you can read it into a Pandas DataFrame\n",
        "import pandas as pd\n",
        "data = pd.read_csv('train.csv')\n",
        "# Display the information about missing values in each column\n",
        "print(data.isnull().sum())\n",
        "# Replace missing values in numeric columns with the mean\n",
        "data.fillna(data.mean(), inplace=True)\n",
        "# Display the information after handling missing values\n",
        "print(data.isnull().sum())"
      ]
    },
    {
      "cell_type": "code",
      "source": [
        "# Remove units from 'Mileage'\n",
        "data['Mileage'] = data['Mileage'].str.extract('(\\d+\\.\\d+)').astype(float)\n"
      ],
      "metadata": {
        "id": "_xo-gfto0Pls"
      },
      "execution_count": 29,
      "outputs": []
    },
    {
      "cell_type": "code",
      "source": [
        "# Remove units from 'Engine'\n",
        "data['Engine'] = data['Engine'].str.extract('(\\d+)').astype(float)\n",
        "# Remove units from 'Power'\n",
        "data['Power'] = data['Power'].str.extract('(\\d+\\.\\d+)').astype(float)\n",
        "# Remove units from 'New_Price'\n",
        "data['New_Price'] = data['New_Price'].str.extract('(\\d+\\.\\d+)').astype(float)\n",
        "# Display the DataFrame to verify changes\n",
        "print(data.head())"
      ],
      "metadata": {
        "colab": {
          "base_uri": "https://localhost:8080/"
        },
        "id": "ETmrEfCE7oTr",
        "outputId": "692928ed-4c69-4a51-95c5-4bdabe89f9b4"
      },
      "execution_count": 30,
      "outputs": [
        {
          "output_type": "stream",
          "name": "stdout",
          "text": [
            "   Unnamed: 0                              Name    Location  Year  \\\n",
            "0           1  Hyundai Creta 1.6 CRDi SX Option        Pune  2015   \n",
            "1           2                      Honda Jazz V     Chennai  2011   \n",
            "2           3                 Maruti Ertiga VDI     Chennai  2012   \n",
            "3           4   Audi A4 New 2.0 TDI Multitronic  Coimbatore  2013   \n",
            "4           6            Nissan Micra Diesel XV      Jaipur  2013   \n",
            "\n",
            "   Kilometers_Driven Fuel_Type Transmission Owner_Type  Mileage  Engine  \\\n",
            "0              41000    Diesel       Manual      First    19.67  1582.0   \n",
            "1              46000    Petrol       Manual      First      NaN  1199.0   \n",
            "2              87000    Diesel       Manual      First    20.77  1248.0   \n",
            "3              40670    Diesel    Automatic     Second    15.20  1968.0   \n",
            "4              86999    Diesel       Manual      First    23.08  1461.0   \n",
            "\n",
            "    Power  Seats  New_Price  Price  \n",
            "0  126.20    5.0        NaN  12.50  \n",
            "1   88.70    5.0       8.61   4.50  \n",
            "2   88.76    7.0        NaN   6.00  \n",
            "3  140.80    5.0        NaN  17.74  \n",
            "4   63.10    5.0        NaN   3.50  \n"
          ]
        }
      ]
    },
    {
      "cell_type": "code",
      "source": [
        "# Convert \"Fuel_Type\" and \"Transmission\" to one-hot encoded values\n",
        "data = pd.get_dummies(data, columns=['Fuel_Type', 'Transmission'], drop_first=True)\n",
        "\n",
        "# Display the modified DataFrame\n",
        "print(data.head())"
      ],
      "metadata": {
        "colab": {
          "base_uri": "https://localhost:8080/"
        },
        "id": "SrHyQutH3eLk",
        "outputId": "1dccb153-41ca-4553-ea3f-f3b28843111b"
      },
      "execution_count": 14,
      "outputs": [
        {
          "output_type": "stream",
          "name": "stdout",
          "text": [
            "   Unnamed: 0                              Name    Location  Year  \\\n",
            "0           1  Hyundai Creta 1.6 CRDi SX Option        Pune  2015   \n",
            "1           2                      Honda Jazz V     Chennai  2011   \n",
            "2           3                 Maruti Ertiga VDI     Chennai  2012   \n",
            "3           4   Audi A4 New 2.0 TDI Multitronic  Coimbatore  2013   \n",
            "4           6            Nissan Micra Diesel XV      Jaipur  2013   \n",
            "\n",
            "   Kilometers_Driven Owner_Type     Mileage   Engine      Power  Seats  \\\n",
            "0              41000      First  19.67 kmpl  1582 CC  126.2 bhp    5.0   \n",
            "1              46000      First    13 km/kg  1199 CC   88.7 bhp    5.0   \n",
            "2              87000      First  20.77 kmpl  1248 CC  88.76 bhp    7.0   \n",
            "3              40670     Second   15.2 kmpl  1968 CC  140.8 bhp    5.0   \n",
            "4              86999      First  23.08 kmpl  1461 CC   63.1 bhp    5.0   \n",
            "\n",
            "   New_Price  Price  Fuel_Type_Electric  Fuel_Type_Petrol  Transmission_Manual  \n",
            "0        NaN  12.50                   0                 0                    1  \n",
            "1  8.61 Lakh   4.50                   0                 1                    1  \n",
            "2        NaN   6.00                   0                 0                    1  \n",
            "3        NaN  17.74                   0                 0                    0  \n",
            "4        NaN   3.50                   0                 0                    1  \n"
          ]
        }
      ]
    },
    {
      "cell_type": "code",
      "source": [
        "import datetime\n",
        "# Get the current year\n",
        "current_year = datetime.datetime.now().year\n",
        "\n",
        "# Create a new column for the current age of the car\n",
        "data['Current_Age'] = current_year - data['Year']\n",
        "\n",
        "# Display the modified DataFrame\n",
        "print(data.head())\n"
      ],
      "metadata": {
        "colab": {
          "base_uri": "https://localhost:8080/"
        },
        "id": "nGvjrrjV36Ua",
        "outputId": "1e0ad837-5684-4893-c4fa-6b93670e790a"
      },
      "execution_count": 15,
      "outputs": [
        {
          "output_type": "stream",
          "name": "stdout",
          "text": [
            "   Unnamed: 0                              Name    Location  Year  \\\n",
            "0           1  Hyundai Creta 1.6 CRDi SX Option        Pune  2015   \n",
            "1           2                      Honda Jazz V     Chennai  2011   \n",
            "2           3                 Maruti Ertiga VDI     Chennai  2012   \n",
            "3           4   Audi A4 New 2.0 TDI Multitronic  Coimbatore  2013   \n",
            "4           6            Nissan Micra Diesel XV      Jaipur  2013   \n",
            "\n",
            "   Kilometers_Driven Owner_Type     Mileage   Engine      Power  Seats  \\\n",
            "0              41000      First  19.67 kmpl  1582 CC  126.2 bhp    5.0   \n",
            "1              46000      First    13 km/kg  1199 CC   88.7 bhp    5.0   \n",
            "2              87000      First  20.77 kmpl  1248 CC  88.76 bhp    7.0   \n",
            "3              40670     Second   15.2 kmpl  1968 CC  140.8 bhp    5.0   \n",
            "4              86999      First  23.08 kmpl  1461 CC   63.1 bhp    5.0   \n",
            "\n",
            "   New_Price  Price  Fuel_Type_Electric  Fuel_Type_Petrol  \\\n",
            "0        NaN  12.50                   0                 0   \n",
            "1  8.61 Lakh   4.50                   0                 1   \n",
            "2        NaN   6.00                   0                 0   \n",
            "3        NaN  17.74                   0                 0   \n",
            "4        NaN   3.50                   0                 0   \n",
            "\n",
            "   Transmission_Manual  Current_Age  \n",
            "0                    1            9  \n",
            "1                    1           13  \n",
            "2                    1           12  \n",
            "3                    0           11  \n",
            "4                    1           11  \n"
          ]
        }
      ]
    },
    {
      "cell_type": "code",
      "source": [
        "import pandas as pd\n",
        "\n",
        "# Select specific columns\n",
        "selected_columns = data[['Name', 'Location', 'Year', 'Mileage', 'Price']]\n",
        "print(\"Selected Columns:\")\n",
        "print(selected_columns.head())\n",
        "\n",
        "data['Mileage'] = pd.to_numeric(data['Mileage'], errors='coerce')\n",
        "\n",
        "# Filter rows based on a condition (e.g., cars with more than 100,000 km Mileage)\n",
        "filtered_data = data[data['Mileage'] > 100000]\n",
        "print(\"\\nFiltered Data:\")\n",
        "print(filtered_data.head())\n",
        "\n",
        "# Rename columns\n",
        "renamed_data = data.rename(columns={'Name': 'Brand', 'Model': 'Car_Model'})\n",
        "print(\"\\nRenamed Columns:\")\n",
        "print(renamed_data.head())\n"
      ],
      "metadata": {
        "colab": {
          "base_uri": "https://localhost:8080/"
        },
        "id": "BBggJ8VH4GPW",
        "outputId": "b816787b-4c41-433e-e5a0-fa00752b10d7"
      },
      "execution_count": 36,
      "outputs": [
        {
          "output_type": "stream",
          "name": "stdout",
          "text": [
            "Selected Columns:\n",
            "                               Name    Location  Year  Mileage  Price\n",
            "0  Hyundai Creta 1.6 CRDi SX Option        Pune  2015    19.67  12.50\n",
            "1                      Honda Jazz V     Chennai  2011      NaN   4.50\n",
            "2                 Maruti Ertiga VDI     Chennai  2012    20.77   6.00\n",
            "3   Audi A4 New 2.0 TDI Multitronic  Coimbatore  2013    15.20  17.74\n",
            "4            Nissan Micra Diesel XV      Jaipur  2013    23.08   3.50\n",
            "\n",
            "Filtered Data:\n",
            "Empty DataFrame\n",
            "Columns: [Unnamed: 0, Name, Location, Year, Kilometers_Driven, Fuel_Type, Transmission, Owner_Type, Mileage, Engine, Power, Seats, New_Price, Price, Price_Per_Kilometer]\n",
            "Index: []\n",
            "\n",
            "Renamed Columns:\n",
            "   Unnamed: 0                             Brand    Location  Year  \\\n",
            "0           1  Hyundai Creta 1.6 CRDi SX Option        Pune  2015   \n",
            "1           2                      Honda Jazz V     Chennai  2011   \n",
            "2           3                 Maruti Ertiga VDI     Chennai  2012   \n",
            "3           4   Audi A4 New 2.0 TDI Multitronic  Coimbatore  2013   \n",
            "4           6            Nissan Micra Diesel XV      Jaipur  2013   \n",
            "\n",
            "   Kilometers_Driven Fuel_Type Transmission Owner_Type  Mileage  Engine  \\\n",
            "0              41000    Diesel       Manual      First    19.67  1582.0   \n",
            "1              46000    Petrol       Manual      First      NaN  1199.0   \n",
            "2              87000    Diesel       Manual      First    20.77  1248.0   \n",
            "3              40670    Diesel    Automatic     Second    15.20  1968.0   \n",
            "4              86999    Diesel       Manual      First    23.08  1461.0   \n",
            "\n",
            "    Power  Seats  New_Price  Price  Price_Per_Kilometer  \n",
            "0  126.20    5.0        NaN  12.50             0.635486  \n",
            "1   88.70    5.0       8.61   4.50                  NaN  \n",
            "2   88.76    7.0        NaN   6.00             0.288878  \n",
            "3  140.80    5.0        NaN  17.74             1.167105  \n",
            "4   63.10    5.0        NaN   3.50             0.151646  \n"
          ]
        }
      ]
    },
    {
      "cell_type": "code",
      "source": [
        "# Mutate: Create a new feature (e.g., calculate price per kilometer)\n",
        "data['Price_Per_Kilometer'] = data['Price'] / data['Mileage']\n",
        "print(\"\\nMutated DataFrame:\")\n",
        "print(data.head())"
      ],
      "metadata": {
        "colab": {
          "base_uri": "https://localhost:8080/"
        },
        "id": "k8EyB4zO_kDm",
        "outputId": "bd474c4d-d489-4095-b8a3-0da27659164b"
      },
      "execution_count": 39,
      "outputs": [
        {
          "output_type": "stream",
          "name": "stdout",
          "text": [
            "\n",
            "Mutated DataFrame:\n",
            "   Unnamed: 0                              Name    Location  Year  \\\n",
            "0           1  Hyundai Creta 1.6 CRDi SX Option        Pune  2015   \n",
            "1           2                      Honda Jazz V     Chennai  2011   \n",
            "2           3                 Maruti Ertiga VDI     Chennai  2012   \n",
            "3           4   Audi A4 New 2.0 TDI Multitronic  Coimbatore  2013   \n",
            "4           6            Nissan Micra Diesel XV      Jaipur  2013   \n",
            "\n",
            "   Kilometers_Driven Fuel_Type Transmission Owner_Type  Mileage  Engine  \\\n",
            "0              41000    Diesel       Manual      First    19.67  1582.0   \n",
            "1              46000    Petrol       Manual      First      NaN  1199.0   \n",
            "2              87000    Diesel       Manual      First    20.77  1248.0   \n",
            "3              40670    Diesel    Automatic     Second    15.20  1968.0   \n",
            "4              86999    Diesel       Manual      First    23.08  1461.0   \n",
            "\n",
            "    Power  Seats  New_Price  Price  Price_Per_Kilometer  \n",
            "0  126.20    5.0        NaN  12.50             0.635486  \n",
            "1   88.70    5.0       8.61   4.50                  NaN  \n",
            "2   88.76    7.0        NaN   6.00             0.288878  \n",
            "3  140.80    5.0        NaN  17.74             1.167105  \n",
            "4   63.10    5.0        NaN   3.50             0.151646  \n"
          ]
        }
      ]
    },
    {
      "cell_type": "code",
      "source": [
        "# Arrange (sort) the DataFrame based on a column (e.g., arrange by Year in ascending order)\n",
        "arranged_data = data.sort_values(by='Year')\n",
        "print(\"\\nArranged DataFrame:\")\n",
        "print(arranged_data.head())\n",
        "\n",
        "# Summarize with group by (e.g., average price for each Fuel_Type)\n",
        "summary_by_fuel_type = data.groupby('Fuel_Type')['Price'].mean().reset_index()\n",
        "print(\"\\nSummary by Fuel_Type':\")\n",
        "print(summary_by_fuel_type)"
      ],
      "metadata": {
        "colab": {
          "base_uri": "https://localhost:8080/"
        },
        "id": "8q2pyjBw_9VC",
        "outputId": "af04c054-3bc4-41fb-ce50-2a4c62a7746a"
      },
      "execution_count": 40,
      "outputs": [
        {
          "output_type": "stream",
          "name": "stdout",
          "text": [
            "\n",
            "Arranged DataFrame:\n",
            "      Unnamed: 0                               Name Location  Year  \\\n",
            "5558        5716                      Maruti Zen LX   Jaipur  1998   \n",
            "3039        3138                     Maruti Zen LXI   Jaipur  1998   \n",
            "3630        3749  Mercedes-Benz E-Class 250 D W 210   Mumbai  1998   \n",
            "1791        1845                 Honda City 1.3 EXI     Pune  1999   \n",
            "1185        1224                      Maruti Zen VX   Jaipur  1999   \n",
            "\n",
            "      Kilometers_Driven Fuel_Type Transmission Owner_Type  Mileage  Engine  \\\n",
            "5558              95150    Petrol       Manual      Third     17.3   993.0   \n",
            "3039              95150    Petrol       Manual      Third     17.3   993.0   \n",
            "3630              55300    Diesel    Automatic      First     10.0  1796.0   \n",
            "1791             140000    Petrol       Manual      First     13.0  1343.0   \n",
            "1185              70000    Petrol       Manual     Second     17.3   993.0   \n",
            "\n",
            "      Power  Seats  New_Price  Price  Price_Per_Kilometer  \n",
            "5558    NaN    5.0        NaN   0.53             0.030636  \n",
            "3039    NaN    5.0        NaN   0.45             0.026012  \n",
            "3630  157.7    5.0        NaN   3.90             0.390000  \n",
            "1791    NaN    5.0        NaN   0.90             0.069231  \n",
            "1185    NaN    5.0        NaN   0.77             0.044509  \n",
            "\n",
            "Summary by Fuel_Type':\n",
            "  Fuel_Type      Price\n",
            "0    Diesel  12.960686\n",
            "1  Electric  12.875000\n",
            "2    Petrol   5.756688\n"
          ]
        }
      ]
    }
  ]
}